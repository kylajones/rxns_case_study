{
 "cells": [
  {
   "cell_type": "markdown",
   "metadata": {},
   "source": [
    "### Load libraries"
   ]
  },
  {
   "cell_type": "code",
   "execution_count": 1,
   "metadata": {},
   "outputs": [],
   "source": [
    "%matplotlib inline\n",
    "import matplotlib.pyplot as plt\n",
    "import numpy as np\n",
    "import pandas as pd\n",
    "import os\n",
    "import reaction_models as rxn\n",
    "import plateau_analysis_fxns as paf"
   ]
  },
  {
   "cell_type": "markdown",
   "metadata": {},
   "source": [
    "### Load regressed parameters"
   ]
  },
  {
   "cell_type": "code",
   "execution_count": 3,
   "metadata": {},
   "outputs": [
    {
     "data": {
      "text/html": [
       "<div>\n",
       "<style scoped>\n",
       "    .dataframe tbody tr th:only-of-type {\n",
       "        vertical-align: middle;\n",
       "    }\n",
       "\n",
       "    .dataframe tbody tr th {\n",
       "        vertical-align: top;\n",
       "    }\n",
       "\n",
       "    .dataframe thead th {\n",
       "        text-align: right;\n",
       "    }\n",
       "</style>\n",
       "<table border=\"1\" class=\"dataframe\">\n",
       "  <thead>\n",
       "    <tr style=\"text-align: right;\">\n",
       "      <th></th>\n",
       "      <th>case</th>\n",
       "      <th>A1</th>\n",
       "      <th>A2</th>\n",
       "      <th>E1</th>\n",
       "      <th>E2</th>\n",
       "    </tr>\n",
       "  </thead>\n",
       "  <tbody>\n",
       "    <tr>\n",
       "      <th>0</th>\n",
       "      <td>1</td>\n",
       "      <td>72.448290</td>\n",
       "      <td>49.507804</td>\n",
       "      <td>6.935788</td>\n",
       "      <td>12.492344</td>\n",
       "    </tr>\n",
       "    <tr>\n",
       "      <th>1</th>\n",
       "      <td>2</td>\n",
       "      <td>76.600171</td>\n",
       "      <td>10.396757</td>\n",
       "      <td>7.230669</td>\n",
       "      <td>7.513692</td>\n",
       "    </tr>\n",
       "    <tr>\n",
       "      <th>2</th>\n",
       "      <td>3</td>\n",
       "      <td>139.553241</td>\n",
       "      <td>88.739652</td>\n",
       "      <td>9.168945</td>\n",
       "      <td>14.244120</td>\n",
       "    </tr>\n",
       "    <tr>\n",
       "      <th>3</th>\n",
       "      <td>4</td>\n",
       "      <td>128.446729</td>\n",
       "      <td>31.224946</td>\n",
       "      <td>8.829378</td>\n",
       "      <td>11.261605</td>\n",
       "    </tr>\n",
       "    <tr>\n",
       "      <th>4</th>\n",
       "      <td>5</td>\n",
       "      <td>123.821545</td>\n",
       "      <td>5.535530</td>\n",
       "      <td>8.626742</td>\n",
       "      <td>5.943396</td>\n",
       "    </tr>\n",
       "    <tr>\n",
       "      <th>5</th>\n",
       "      <td>6</td>\n",
       "      <td>124.860947</td>\n",
       "      <td>107.160563</td>\n",
       "      <td>8.891237</td>\n",
       "      <td>14.778025</td>\n",
       "    </tr>\n",
       "    <tr>\n",
       "      <th>6</th>\n",
       "      <td>7</td>\n",
       "      <td>89.285271</td>\n",
       "      <td>27.945122</td>\n",
       "      <td>7.883856</td>\n",
       "      <td>10.946193</td>\n",
       "    </tr>\n",
       "    <tr>\n",
       "      <th>7</th>\n",
       "      <td>8</td>\n",
       "      <td>107.241241</td>\n",
       "      <td>44.968585</td>\n",
       "      <td>8.224972</td>\n",
       "      <td>12.476900</td>\n",
       "    </tr>\n",
       "    <tr>\n",
       "      <th>8</th>\n",
       "      <td>9</td>\n",
       "      <td>197.867993</td>\n",
       "      <td>4.666031</td>\n",
       "      <td>9.897156</td>\n",
       "      <td>6.461187</td>\n",
       "    </tr>\n",
       "    <tr>\n",
       "      <th>9</th>\n",
       "      <td>10</td>\n",
       "      <td>62.698517</td>\n",
       "      <td>183.592116</td>\n",
       "      <td>6.550067</td>\n",
       "      <td>16.606276</td>\n",
       "    </tr>\n",
       "  </tbody>\n",
       "</table>\n",
       "</div>"
      ],
      "text/plain": [
       "   case          A1          A2        E1         E2\n",
       "0     1   72.448290   49.507804  6.935788  12.492344\n",
       "1     2   76.600171   10.396757  7.230669   7.513692\n",
       "2     3  139.553241   88.739652  9.168945  14.244120\n",
       "3     4  128.446729   31.224946  8.829378  11.261605\n",
       "4     5  123.821545    5.535530  8.626742   5.943396\n",
       "5     6  124.860947  107.160563  8.891237  14.778025\n",
       "6     7   89.285271   27.945122  7.883856  10.946193\n",
       "7     8  107.241241   44.968585  8.224972  12.476900\n",
       "8     9  197.867993    4.666031  9.897156   6.461187\n",
       "9    10   62.698517  183.592116  6.550067  16.606276"
      ]
     },
     "metadata": {},
     "output_type": "display_data"
    }
   ],
   "source": [
    "sp_params = pd.read_csv('fitted_parameters_simple_physics_master.csv', index_col = 0)\n",
    "display(sp_params)"
   ]
  },
  {
   "cell_type": "markdown",
   "metadata": {},
   "source": [
    "### Define temperature range and run models"
   ]
  },
  {
   "cell_type": "code",
   "execution_count": null,
   "metadata": {},
   "outputs": [
    {
     "data": {
      "text/plain": [
       "<Figure size 432x288 with 0 Axes>"
      ]
     },
     "metadata": {},
     "output_type": "display_data"
    },
    {
     "data": {
      "image/png": "[encoded data removed]",
      "text/plain": [
       "<Figure size 216x288 with 1 Axes>"
      ]
     },
     "metadata": {
      "needs_background": "light"
     },
     "output_type": "display_data"
    },
    {
     "data": {
      "image/png": "[encoded data removed]",
      "text/plain": [
       "<Figure size 216x288 with 1 Axes>"
      ]
     },
     "metadata": {
      "needs_background": "light"
     },
     "output_type": "display_data"
    },
    {
     "data": {
      "text/plain": [
       "<Figure size 432x288 with 0 Axes>"
      ]
     },
     "metadata": {},
     "output_type": "display_data"
    }
   ],
   "source": [
    "T = np.linspace(300, 500, 5) # temperature range of interest\n",
    "CA0 = 2.0 # [M] starting concentration of A\n",
    "t = np.linspace(0, 1, 51) # [hr] time range\n",
    "obj_weights = [-0.5,1,-0.5,0,0] # weights for objective function\n",
    "\n",
    "# initialize objective function outputs\n",
    "obj_fp = np.zeros([len(t), len(T)]) \n",
    "obj_sp = 0*obj_fp\n",
    "\n",
    "# set full physics parameters\n",
    "A_fp = np.array([200, 100, 50])\n",
    "E_fp = np.array([10, 20, 15])\n",
    "θ_fp = np.hstack([A_fp, E_fp])\n",
    "\n",
    "# get parameters for case of interest\n",
    "case_no = 10\n",
    "θ_sp = paf.get_case_params(case_no, sp_params)\n",
    "\n",
    "for i in np.arange(0, len(T)):\n",
    "    \n",
    "    # simulate full physics model\n",
    "    CA_fp, CB_fp, CC_fp = rxn.full_physics_model_2(θ_fp, t, CA0, T[i])\n",
    "    \n",
    "    # simulate simple physics model\n",
    "    CA_sp, CB_sp, CC_sp = rxn.simple_physics_model(θ_sp, t, CA0, T[i])\n",
    "    \n",
    "    # plot full and simple physics models\n",
    "    paf.spfp_plot_props(np.array([CA_fp, CB_fp, CC_fp]), np.array([CA_sp, CB_sp, CC_sp]), t, CA0, T[i], case_no, save = 'TRUE')\n",
    "    \n",
    "    # compute objective function for full physics\n",
    "    obj_fp[:,i] = paf.objective_function(CA_fp, CB_fp, CC_fp, t, T[i], obj_weights, print_level = 2, temp_ref = 500)\n",
    "    \n",
    "    # compute objective function for simple physics\n",
    "    obj_sp[:,i] = paf.objective_function(CA_sp, CB_sp ,CC_sp, t, T[i], obj_weights, print_level = 2, temp_ref = 500)\n",
    "    \n",
    "    # plot objectives from simple and full physics\n",
    "    paf.plot_obj_fxn(t, obj_sp[:,i], obj_fp[:,i], CA0, T[i], case_no, save = 'TRUE')\n",
    "    \n",
    "paf.plot_obj_fxn_temp(t, obj_sp, CA0, T, case_no, save = 'TRUE', model_type = 'SP')\n",
    "\n",
    "paf.plot_obj_fxn_temp(t, obj_fp, CA0, T, case_no, save = 'TRUE', model_type = 'FP')\n"
   ]
  },
  {
   "cell_type": "code",
   "execution_count": 4,
   "metadata": {},
   "outputs": [],
   "source": [
    "#  # return k1, k2, k3 for full physics model\n",
    "#     k_fp = rxn.kinetics(θ_fp[0:3], θ_fp[3:6], T[i])\n",
    "    \n",
    "#     # compute instantaneous yield of full physics\n",
    "#     YB_fp = (k_fp[0]*CA_fp - k_fp[2]*CB_fp**3 + k_fp[1]*CC_fp)/(k_fp[0]*CA_fp + k_fp[2]*CB_fp)\n",
    "    \n",
    "#     # return k1 and k2 for simple physics model\n",
    "#     k_sp = rxn.kinetics(θ_sp[0:2], θ_sp[2:4], T[i])\n",
    "    \n",
    "#     # compute instantaneous yield of simple physics\n",
    "#     # YB_sp = (k_sp[0]*CA_sp - k_sp[1]*CB_sp)/(k_sp[0]*CA_sp)\n",
    "    \n",
    "#     #plt.figure()\n",
    "#     plt.plot(t, YB_fp, label = 'FP')\n",
    "#     plt.plot(t, YB_sp, label = 'SP')\n",
    "#     plt.legend()"
   ]
  },
  {
   "cell_type": "code",
   "execution_count": null,
   "metadata": {},
   "outputs": [],
   "source": []
  }
 ],
 "metadata": {
  "kernelspec": {
   "display_name": "Python 3",
   "language": "python",
   "name": "python3"
  },
  "language_info": {
   "codemirror_mode": {
    "name": "ipython",
    "version": 3
   },
   "file_extension": ".py",
   "mimetype": "text/x-python",
   "name": "python",
   "nbconvert_exporter": "python",
   "pygments_lexer": "ipython3",
   "version": "3.7.9"
  }
 },
 "nbformat": 4,
 "nbformat_minor": 4
}
